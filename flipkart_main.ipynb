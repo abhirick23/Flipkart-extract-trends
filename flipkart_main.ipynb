{
 "cells": [
  {
   "cell_type": "code",
   "execution_count": 1,
   "metadata": {},
   "outputs": [],
   "source": [
    "from autoscraper import AutoScraper\n",
    "import pandas as pd"
   ]
  },
  {
   "cell_type": "code",
   "execution_count": 36,
   "metadata": {},
   "outputs": [
    {
     "name": "stdout",
     "output_type": "stream",
     "text": [
      "https://www.flipkart.com/search?q=baby&otracker=search&otracker1=search&marketplace=FLIPKART&as-show=on&as=off&sort=popularity\n"
     ]
    }
   ],
   "source": [
    "search = \"baby\"\n",
    "flipkart_url=\"https://www.flipkart.com/search?q={}&otracker=search&otracker1=search&marketplace=FLIPKART&as-show=on&as=off&sort=popularity\".format(search)\n",
    "print(flipkart_url)"
   ]
  },
  {
   "cell_type": "code",
   "execution_count": 37,
   "metadata": {},
   "outputs": [],
   "source": [
    "wanted_list=[\"https://rukminim1.flixcart.com/image/612/612/jw9ke4w0/bedding-set/b/u/h/mosquito-and-insect-protection-net-with-bedding-baby-bed-mc-original-imafgz8nfvugvksx.jpeg?q=70\",\"Miss & Chief by Flipkart Polycotton Baby Bed Sized Bedd...\",\"₹325\",\"(21,067)\"]"
   ]
  },
  {
   "cell_type": "code",
   "execution_count": null,
   "metadata": {},
   "outputs": [],
   "source": []
  },
  {
   "cell_type": "code",
   "execution_count": 38,
   "metadata": {},
   "outputs": [],
   "source": [
    "scraper=AutoScraper()\n",
    "result=scraper.build(flipkart_url,wanted_list)"
   ]
  },
  {
   "cell_type": "code",
   "execution_count": 39,
   "metadata": {},
   "outputs": [
    {
     "name": "stdout",
     "output_type": "stream",
     "text": [
      "{'rule_4u42': ['https://rukminim1.flixcart.com/image/612/612/jw9ke4w0/bedding-set/b/u/h/mosquito-and-insect-protection-net-with-bedding-baby-bed-mc-original-imafgz8nfvugvksx.jpeg?q=70', 'https://rukminim1.flixcart.com/image/612/612/jw9ke4w0/bedding-set/y/d/r/mosquito-and-insect-protection-net-with-bedding-baby-bed-mc-original-imafgz8z3p5dgwvr.jpeg?q=70', 'https://rukminim1.flixcart.com/image/612/612/bedding-set/c/8/r/mt-01p-amardeep-mattressp-crib-original-imae95pdzchbzccz.jpeg?q=70', 'https://rukminim1.flixcart.com/image/612/612/jy90eq80/baby-bed/m/3/h/baby-combo-of-mattress-with-mosquito-net-sleeping-bag-polycotton-original-imafgj2zwjrw6sez.jpeg?q=70', 'https://rukminim1.flixcart.com/image/612/612/bedding-set/y/k/w/mt-01b-amardeep-mattressb-crib-original-imae95ph9hgvp8yt.jpeg?q=70', 'https://rukminim1.flixcart.com/image/612/612/kyt0ya80/bedding-set/w/t/m/baby-dry-sheet-for-new-born-baby-baby-bed-ob-waterproof-sheet-original-imagay85ftphhvqu.jpeg?q=70', 'https://rukminim1.flixcart.com/image/612/612/kjem3rk0-0/baby-care-combo/z/e/w/new-born-baby-daily-essentail-bedding-combo-pack-0-6-months-original-imafyzbbz38h9ry4.jpeg?q=70', 'https://rukminim1.flixcart.com/image/612/612/kzn17680/bedding-set/c/j/d/baby-complete-daily-essentail-bedding-set-baby-bed-nest-set-grey-original-imagbhrb4cbgdhqy.jpeg?q=70', 'https://rukminim1.flixcart.com/image/612/612/k2rwlu80/diaper/n/x/d/wonder-pants-diaper-xs-48-huggies-original-imafket5hxrthnzg.jpeg?q=70', 'https://rukminim1.flixcart.com/image/612/612/k6jnfrk0/massage-oil/f/5/x/500-massage-oil-8901138829131-himalaya-original-imafzzebtwunkf3g.jpeg?q=70', 'https://rukminim1.flixcart.com/image/612/612/k4324y80/diaper/e/r/x/dry-pants-small-s-20-huggies-original-imafn2f3ytgyfvgd.jpeg?q=70', 'https://rukminim1.flixcart.com/image/612/612/ku2zjww0/diaper/p/f/g/pant-style-diaper-m-cuddles-super-pants-original-imag7agyfhhbsksk.jpeg?q=70', 'https://rukminim1.flixcart.com/image/612/612/ji0lbbk0/toothpaste/q/p/m/50-100-percent-natural-berry-blast-kids-toothpaste-50g-mamaearth-original-imaf5vhtpm6fpuhm.jpeg?q=70', 'https://rukminim1.flixcart.com/image/612/612/juu4jgw0/bedding-set/y/p/p/bedding-set-with-mosquito-net-baby-bed-sam878-samaaya-original-imaffu9fqeduftvh.jpeg?q=70', 'https://rukminim1.flixcart.com/image/612/612/k1qr5ow0/mattress/d/a/z/water-resistant-bed-protector-baby-dry-sheet-with-ultra-original-imafh8za37chbdqw.jpeg?q=70', 'https://rukminim1.flixcart.com/image/612/612/km9ht3k0/bedding-set/p/t/5/new-born-baby-all-in-one-sleeping-essential-0-8-months-baby-bed-original-imagf7aas7dg3fzc.jpeg?q=70', 'https://rukminim1.flixcart.com/image/612/612/jraycnk0/bedding-set/r/v/v/velvt-meow-kitty-baby-bed-baby-bedding-set-with-attractive-new-original-imafd4hzfy9xbjt2.jpeg?q=70', 'https://rukminim1.flixcart.com/image/612/612/jy3anbk0/baby-bed/h/h/v/baby-mosquito-net-with-mattress-teddy-print-teddy-yellow-original-imafgehu9qprrtw7.jpeg?q=70', 'https://rukminim1.flixcart.com/image/612/612/k612pow0/bedding-set/j/f/n/exclusive-playing-gym-baby-bed-bbqpg003-babique-original-imafajrh6g8rhguw.jpeg?q=70', 'https://rukminim1.flixcart.com/image/612/612/kwmfqfk0/bedding-set/f/a/s/baby-gym-with-mosquito-net-and-baby-bedding-set-baby-bed-mos-pk-original-imag99hw5jqhmyna.jpeg?q=70', 'https://rukminim1.flixcart.com/image/612/612/jq5iky80/bedding-set/q/w/a/new-born-baby-after-bath-oil-massaging-waterproof-sheet-cloths-original-imafc5c6rzgaqghw.jpeg?q=70', 'https://rukminim1.flixcart.com/image/612/612/kwzap3k0/diaper/0/f/c/-original-imag9jktv7gztzyu.jpeg?q=70', 'https://rukminim1.flixcart.com/image/612/612/kcm9t3k0/diaper/s/w/9/total-care-l-76-himalaya-original-imaftpm5pgswea4w.jpeg?q=70', 'https://rukminim1.flixcart.com/image/612/612/l45xea80/diaper/q/o/c/-original-imagf4k7un5c3gzf.jpeg?q=70', 'https://rukminim1.flixcart.com/image/612/612/ku2zjww0/diaper/m/y/v/pant-style-diaper-s-cuddles-super-pants-original-imag7agfvx6nexy3.jpeg?q=70', 'https://rukminim1.flixcart.com/image/612/612/kynb6vk0/infant-formula/r/x/p/-original-imagatptmwnxsj7a.jpeg?q=70', 'https://rukminim1.flixcart.com/image/612/612/kruyw7k0/bedding-set/9/y/3/baby-bedding-mosquito-dolphin-print-net-with-soft-pillow-single-original-imag5k8vhhhcgubj.jpeg?q=70', 'https://rukminim1.flixcart.com/image/612/612/km9ht3k0/bedding-set/r/v/c/new-born-baby-all-in-one-sleeping-essential-0-8-months-baby-bed-original-imagf7aacvvmpe5m.jpeg?q=70', 'https://rukminim1.flixcart.com/image/612/612/km9ht3k0/bedding-set/x/4/o/new-born-baby-all-in-one-sleeping-essential-0-8-months-baby-bed-original-imagf7aaprhedg6t.jpeg?q=70', 'https://rukminim1.flixcart.com/image/612/612/ku2zjww0/bedding-set/q/o/m/mosquito-net-with-blanket-baby-bed-net-with-blanket-rylie-original-imag79ypzdfhdnkg.jpeg?q=70', 'https://rukminim1.flixcart.com/image/612/612/kyt0ya80/bedding-set/1/8/4/baby-dry-sheet-for-new-born-baby-baby-bed-ob-waterproof-sheet-original-imagay85ghsn3vf4.jpeg?q=70', 'https://rukminim1.flixcart.com/image/612/612/jq8dgnk0/baby-bed/g/a/h/multipurpose-carrying-bedding-sleeping-bag-pink-apple-crib-s87-original-imafc3fhnxz3swrj.jpeg?q=70', 'https://rukminim1.flixcart.com/image/612/612/kovsvbk0/baby-bed/w/i/l/kid-s-charm-milky-star-3-in-1-baby-s-cotton-bed-cum-carry-bed-original-imag38vtzuzabtqe.jpeg?q=70', 'https://rukminim1.flixcart.com/image/612/612/kl5hh8w0/mat/t/y/g/small-quickly-dry-waterproof-bed-protector-sheet-ob-dry-sheet-original-imagycdb8vvmbpye.jpeg?q=70', 'https://rukminim1.flixcart.com/image/612/612/k7z3afk0/baby-care-combo/q/j/k/happy-baby-care-gift-pack-5-8901138837518-himalaya-original-imafq3emr6fygbyh.jpeg?q=70', 'https://rukminim1.flixcart.com/image/612/612/kjhgzgw0pkrrdj-0/baby-care-combo/1/n/h/soft-cleansing-baby-wipes-with-aloe-vera-jojoba-oil-and-vitamin-original-imafz5zg9mdksfmd.jpeg?q=70', 'https://rukminim1.flixcart.com/image/612/612/kcm9t3k0/diaper/b/r/e/total-care-m-78-himalaya-original-imaftpm5fcjmfa2m.jpeg?q=70', 'https://rukminim1.flixcart.com/image/612/612/k6jnfrk0/talc/e/z/n/100-baby-powder-himalaya-original-imafzzecvegwgha5.jpeg?q=70', 'https://rukminim1.flixcart.com/image/612/612/k7z3afk0/liquid-detergent/g/d/j/500-gentle-baby-laundry-wash-500-ml-bottle-himalaya-original-imafq3enmzq49j7t.jpeg?q=70', 'https://rukminim1.flixcart.com/image/612/612/klphn680/bedding-set/w/v/t/net-bed-grey-star-and-moon-baby-bed-baby-folding-digital-print-original-imagyrpg7yzsqgpu.jpeg?q=70'], 'rule_nt3y': ['Miss & Chief by Flipkart Polycotton Baby Bed Sized Bedd...', 'Miss & Chief by Flipkart Polycotton Baby Bed Sized Bedd...', 'Amardeep Cotton Baby Bed Sized Bedding Set', 'Miss & Chief by Flipkart Polycotton Baby Bed Sized Bedd...', 'Amardeep Cotton Baby Bed Sized Bedding Set', 'Oyo Baby Cotton Baby Bed Sized Bedding Set', 'Fareto New Born Baby Daily Essentail Bedding Combo Pack...', 'Miss & Chief by Flipkart Cotton Baby Bed Sized Bedding ...', 'Huggies Wonder Pants with Bubble Bed Technology Diapers...', 'HIMALAYA Massage Oil', 'Huggies Dry Pant Diapers with Bubble Bed Technology - S', 'Cuddles - Super Pants Pant Style Diaper - M', 'MamaEarth 100 Percent Natural Berry Blast Kids Toothpas...', 'Samaaya Polycotton Baby Bed Sized Bedding Set', 'BeyBee Cotton Baby Bed Sized Bedding Set', 'Fareto Cotton Baby Bed Sized Bedding Set', 'My New Born Velvet, Cotton Baby Bed Sized Bedding Set', 'Miss & Chief by Flipkart Polycotton Baby Bed Sized Bedd...', 'BABIQUE Cotton Baby Bed Sized Bedding Set', 'ALLURE Cotton Baby Bed Sized Bedding Set', 'Fareto Cotton Baby Bed Sized Bedding Set', 'MamyPoko Pants Standard - M', 'HIMALAYA Total Care Baby Pants Diapers - L', 'MAMY POKO PANTS Standard Diapers Combo - S', 'Cuddles - Super Pants Pant Style Diaper - S', 'Nestle Lactogen Follow-up-Formula (Stage 2)', 'First Vision Cotton Baby Bed Sized Bedding Set', 'Miss & Chief by Flipkart Cotton Baby Bed Sized Bedding ...', 'Fareto Cotton Baby Bed Sized Bedding Set', 'Rylie Nylon Baby Bed Sized Bedding Set', 'Oyo Baby Cotton Baby Bed Sized Bedding Set', 'Teeny Weeny Multipurpose Carrying & Bedding Sleeping Ba...', \"Kid's Charm Kid’s Charm Milky Star 3 in 1 Baby's Cotton...\", 'BeyBee Cotton Baby Bed Sized Bedding Set', 'HIMALAYA Happy Baby Gift Pack ( 5 IN 1)', \"Little's Soft Cleansing Baby Wipes with Aloe Vera, Jojo...\", 'HIMALAYA Total Care - M', 'HIMALAYA Baby powder', 'HIMALAYA Gentle Baby Laundry Wash 500 ml (Bottle) Liqui...', 'Miss & Chief by Flipkart Cotton Baby Bed Sized Bedding ...'], 'rule_10kc': ['Miss & Chief by Flipkart Polycotton Baby Bed Sized Bedd...', 'Miss & Chief by Flipkart Polycotton Baby Bed Sized Bedd...', 'Amardeep Cotton Baby Bed Sized Bedding Set', 'Miss & Chief by Flipkart Polycotton Baby Bed Sized Bedd...', 'Amardeep Cotton Baby Bed Sized Bedding Set', 'Oyo Baby Cotton Baby Bed Sized Bedding Set', 'Fareto New Born Baby Daily Essentail Bedding Combo Pack...', 'Miss & Chief by Flipkart Cotton Baby Bed Sized Bedding ...', 'Huggies Wonder Pants with Bubble Bed Technology Diapers...', 'HIMALAYA Massage Oil', 'Huggies Dry Pant Diapers with Bubble Bed Technology - S', 'Cuddles - Super Pants Pant Style Diaper - M', 'MamaEarth 100 Percent Natural Berry Blast Kids Toothpas...', 'Samaaya Polycotton Baby Bed Sized Bedding Set', 'BeyBee Cotton Baby Bed Sized Bedding Set', 'Fareto Cotton Baby Bed Sized Bedding Set', 'My New Born Velvet, Cotton Baby Bed Sized Bedding Set', 'Miss & Chief by Flipkart Polycotton Baby Bed Sized Bedd...', 'BABIQUE Cotton Baby Bed Sized Bedding Set', 'ALLURE Cotton Baby Bed Sized Bedding Set', 'Fareto Cotton Baby Bed Sized Bedding Set', 'MamyPoko Pants Standard - M', 'HIMALAYA Total Care Baby Pants Diapers - L', 'MAMY POKO PANTS Standard Diapers Combo - S', 'Cuddles - Super Pants Pant Style Diaper - S', 'Nestle Lactogen Follow-up-Formula (Stage 2)', 'First Vision Cotton Baby Bed Sized Bedding Set', 'Miss & Chief by Flipkart Cotton Baby Bed Sized Bedding ...', 'Fareto Cotton Baby Bed Sized Bedding Set', 'Rylie Nylon Baby Bed Sized Bedding Set', 'Oyo Baby Cotton Baby Bed Sized Bedding Set', 'Teeny Weeny Multipurpose Carrying & Bedding Sleeping Ba...', \"Kid's Charm Kid’s Charm Milky Star 3 in 1 Baby's Cotton...\", 'BeyBee Cotton Baby Bed Sized Bedding Set', 'HIMALAYA Happy Baby Gift Pack ( 5 IN 1)', \"Little's Soft Cleansing Baby Wipes with Aloe Vera, Jojo...\", 'HIMALAYA Total Care - M', 'HIMALAYA Baby powder', 'HIMALAYA Gentle Baby Laundry Wash 500 ml (Bottle) Liqui...', 'Miss & Chief by Flipkart Cotton Baby Bed Sized Bedding ...'], 'rule_2k7s': ['Miss & Chief by Flipkart Polycotton Baby Bed Sized Bedd...', 'Miss & Chief by Flipkart Polycotton Baby Bed Sized Bedd...', 'Amardeep Cotton Baby Bed Sized Bedding Set', 'Miss & Chief by Flipkart Polycotton Baby Bed Sized Bedd...', 'Amardeep Cotton Baby Bed Sized Bedding Set', 'Oyo Baby Cotton Baby Bed Sized Bedding Set', 'Fareto New Born Baby Daily Essentail Bedding Combo Pack...', 'Miss & Chief by Flipkart Cotton Baby Bed Sized Bedding ...', 'Huggies Wonder Pants with Bubble Bed Technology Diapers...', 'HIMALAYA Massage Oil', 'Huggies Dry Pant Diapers with Bubble Bed Technology - S', 'Cuddles - Super Pants Pant Style Diaper - M', 'MamaEarth 100 Percent Natural Berry Blast Kids Toothpas...', 'Samaaya Polycotton Baby Bed Sized Bedding Set', 'BeyBee Cotton Baby Bed Sized Bedding Set', 'Fareto Cotton Baby Bed Sized Bedding Set', 'My New Born Velvet, Cotton Baby Bed Sized Bedding Set', 'Miss & Chief by Flipkart Polycotton Baby Bed Sized Bedd...', 'BABIQUE Cotton Baby Bed Sized Bedding Set', 'ALLURE Cotton Baby Bed Sized Bedding Set', 'Fareto Cotton Baby Bed Sized Bedding Set', 'MamyPoko Pants Standard - M', 'HIMALAYA Total Care Baby Pants Diapers - L', 'MAMY POKO PANTS Standard Diapers Combo - S', 'Cuddles - Super Pants Pant Style Diaper - S', 'Nestle Lactogen Follow-up-Formula (Stage 2)', 'First Vision Cotton Baby Bed Sized Bedding Set', 'Miss & Chief by Flipkart Cotton Baby Bed Sized Bedding ...', 'Fareto Cotton Baby Bed Sized Bedding Set', 'Rylie Nylon Baby Bed Sized Bedding Set', 'Oyo Baby Cotton Baby Bed Sized Bedding Set', 'Teeny Weeny Multipurpose Carrying & Bedding Sleeping Ba...', \"Kid's Charm Kid’s Charm Milky Star 3 in 1 Baby's Cotton...\", 'BeyBee Cotton Baby Bed Sized Bedding Set', 'HIMALAYA Happy Baby Gift Pack ( 5 IN 1)', \"Little's Soft Cleansing Baby Wipes with Aloe Vera, Jojo...\", 'HIMALAYA Total Care - M', 'HIMALAYA Baby powder', 'HIMALAYA Gentle Baby Laundry Wash 500 ml (Bottle) Liqui...', 'Miss & Chief by Flipkart Cotton Baby Bed Sized Bedding ...'], 'rule_vs2g': ['Miss & Chief by Flipkart Polycotton Baby Bed Sized Bedd...', 'Miss & Chief by Flipkart Polycotton Baby Bed Sized Bedd...', 'Amardeep Cotton Baby Bed Sized Bedding Set', 'Miss & Chief by Flipkart Polycotton Baby Bed Sized Bedd...', 'Amardeep Cotton Baby Bed Sized Bedding Set', 'Oyo Baby Cotton Baby Bed Sized Bedding Set', 'Fareto New Born Baby Daily Essentail Bedding Combo Pack...', 'Miss & Chief by Flipkart Cotton Baby Bed Sized Bedding ...', 'Huggies Wonder Pants with Bubble Bed Technology Diapers...', 'HIMALAYA Massage Oil', 'Huggies Dry Pant Diapers with Bubble Bed Technology - S', 'Cuddles - Super Pants Pant Style Diaper - M', 'MamaEarth 100 Percent Natural Berry Blast Kids Toothpas...', 'Samaaya Polycotton Baby Bed Sized Bedding Set', 'BeyBee Cotton Baby Bed Sized Bedding Set', 'Fareto Cotton Baby Bed Sized Bedding Set', 'My New Born Velvet, Cotton Baby Bed Sized Bedding Set', 'Miss & Chief by Flipkart Polycotton Baby Bed Sized Bedd...', 'BABIQUE Cotton Baby Bed Sized Bedding Set', 'ALLURE Cotton Baby Bed Sized Bedding Set', 'Fareto Cotton Baby Bed Sized Bedding Set', 'MamyPoko Pants Standard - M', 'HIMALAYA Total Care Baby Pants Diapers - L', 'MAMY POKO PANTS Standard Diapers Combo - S', 'Cuddles - Super Pants Pant Style Diaper - S', 'Nestle Lactogen Follow-up-Formula (Stage 2)', 'First Vision Cotton Baby Bed Sized Bedding Set', 'Miss & Chief by Flipkart Cotton Baby Bed Sized Bedding ...', 'Fareto Cotton Baby Bed Sized Bedding Set', 'Rylie Nylon Baby Bed Sized Bedding Set', 'Oyo Baby Cotton Baby Bed Sized Bedding Set', 'Teeny Weeny Multipurpose Carrying & Bedding Sleeping Ba...', \"Kid's Charm Kid’s Charm Milky Star 3 in 1 Baby's Cotton...\", 'BeyBee Cotton Baby Bed Sized Bedding Set', 'HIMALAYA Happy Baby Gift Pack ( 5 IN 1)', \"Little's Soft Cleansing Baby Wipes with Aloe Vera, Jojo...\", 'HIMALAYA Total Care - M', 'HIMALAYA Baby powder', 'HIMALAYA Gentle Baby Laundry Wash 500 ml (Bottle) Liqui...', 'Miss & Chief by Flipkart Cotton Baby Bed Sized Bedding ...'], 'rule_fo7t': ['₹325', '₹325', '₹309', '₹499', '₹309', '₹270', '₹849', '₹999', '₹210', '₹258', '₹155', '₹549', '₹109', '₹269', '₹153', '₹399', '₹540', '₹299', '₹479', '₹488', '₹299', '₹322', '₹802', '₹788', '₹549', '₹350', '₹299', '₹750', '₹399', '₹340', '₹265', '₹330', '₹409', '₹185', '₹175', '₹128', '₹777', '₹68', '₹238', '₹350'], 'rule_0phf': ['₹325', '₹325', '₹309', '₹499', '₹309', '₹270', '₹849', '₹999', '₹210', '₹258', '₹155', '₹549', '₹109', '₹269', '₹153', '₹399', '₹540', '₹299', '₹479', '₹488', '₹299', '₹322', '₹802', '₹788', '₹549', '₹350', '₹299', '₹750', '₹399', '₹340', '₹265', '₹330', '₹409', '₹185', '₹175', '₹128', '₹777', '₹68', '₹238', '₹350'], 'rule_s3fu': ['(21,067)', '(21,067)', '(12,989)', '(11,233)', '(12,989)', '(566)', '(527)', '(634)', '(49,417)', '(71,790)', '(33,158)', '(96,498)', '(13,947)', '(3,158)', '(12,273)', '(1,035)', '(6,845)', '(2,114)', '(1,680)', '(391)', '(6,887)', '(15,500)', '(57,280)', '(96)', '(96,498)', '(5,472)', '(98)', '(411)', '(1,035)', '(291)', '(566)', '(1,623)', '(608)', '(12,273)', '(34,477)', '(3,09,042)', '(50,844)', '(15,452)', '(1,516)', '(2,094)'], 'rule_tz1l': ['(21,067)', '(21,067)', '(12,989)', '(11,233)', '(12,989)', '(566)', '(527)', '(634)', '(49,417)', '(71,790)', '(33,158)', '(96,498)', '(13,947)', '(3,158)', '(12,273)', '(1,035)', '(6,845)', '(2,114)', '(1,680)', '(391)', '(6,887)', '(15,500)', '(57,280)', '(96)', '(96,498)', '(5,472)', '(98)', '(411)', '(1,035)', '(291)', '(566)', '(1,623)', '(608)', '(12,273)', '(34,477)', '(3,09,042)', '(50,844)', '(15,452)', '(1,516)', '(2,094)']}\n"
     ]
    }
   ],
   "source": [
    "data = scraper.get_result_similar(flipkart_url,grouped=True)\n",
    "print(data)"
   ]
  },
  {
   "cell_type": "code",
   "execution_count": 40,
   "metadata": {},
   "outputs": [
    {
     "name": "stdout",
     "output_type": "stream",
     "text": [
      "['rule_4u42', 'rule_nt3y', 'rule_10kc', 'rule_2k7s', 'rule_vs2g', 'rule_fo7t', 'rule_0phf', 'rule_s3fu', 'rule_tz1l']\n"
     ]
    }
   ],
   "source": [
    "keys = list(data.keys())\n",
    "print(keys)"
   ]
  },
  {
   "cell_type": "code",
   "execution_count": 41,
   "metadata": {},
   "outputs": [],
   "source": [
    "scraper.set_rule_aliases({str(keys[0]):'ImageUrl',str(keys[1]):'Title',str(keys[-4]):'Price',str(keys[-2]):'Reviews'})\n"
   ]
  },
  {
   "cell_type": "code",
   "execution_count": 42,
   "metadata": {},
   "outputs": [],
   "source": [
    "scraper.save(\"flipkart.json\")"
   ]
  }
 ],
 "metadata": {
  "kernelspec": {
   "display_name": "Python 3.9.7 ('base')",
   "language": "python",
   "name": "python3"
  },
  "language_info": {
   "codemirror_mode": {
    "name": "ipython",
    "version": 3
   },
   "file_extension": ".py",
   "mimetype": "text/x-python",
   "name": "python",
   "nbconvert_exporter": "python",
   "pygments_lexer": "ipython3",
   "version": "3.9.7"
  },
  "orig_nbformat": 4,
  "vscode": {
   "interpreter": {
    "hash": "2043299c89c8cd0b4d1a6f5cf4529bd58e6a4e0fe3181a25e0d328c821cdc5c5"
   }
  }
 },
 "nbformat": 4,
 "nbformat_minor": 2
}
